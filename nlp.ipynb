{
 "cells": [
  {
   "cell_type": "markdown",
   "metadata": {},
   "source": [
    "# Preprocesssing"
   ]
  },
  {
   "cell_type": "code",
   "execution_count": 15,
   "metadata": {},
   "outputs": [],
   "source": [
    "import spacy\n",
    "from gensim.models import Word2Vec\n",
    "\n",
    "nlp = spacy.load(\"ro_core_news_sm\")\n",
    "with open(\"texts.txt\", \"r\", encoding=\"utf-8\") as f:\n",
    "    texts = [line.strip() for line in f.readlines()][:10]\n"
   ]
  },
  {
   "cell_type": "code",
   "execution_count": 22,
   "metadata": {},
   "outputs": [
    {
     "name": "stdout",
     "output_type": "stream",
     "text": [
      "['cultural', 'dezvoltare', 'românia', 'ultim', 'proiect', 'peisaj', 'modern', 'organiza', 'tradițional', 'sector', 'urban', 'implica', 'artist', 'medicină', 'combina', 'tehnologiile', 'avansat', 'rar', 'boală', 'românesc', 'temă', 'contemporan', 'explora', 'perspectivă', 'lega', 'identitate', 'istorie', 'expoziție', 'festivalură', 'artă', 'agricultură', 'fermier', 'adopta', 'practică', 'ecologic', 'tratament', 'domeniu', 'deschid', 'abilitate', 'an', 'tehnologic', 'transforma', 'economie', 'îmbunătăți', 'productivitateă', 'precum', 'it', 'manufactură', 'educație', 'pune', 'accent', 'digital', 'biotehnologie', 'școală', 'bucurești', 'implementa', 'program', 'inovativ', 'pregăti', 'elev', 'piață', 'muncă', 'cercetările', 'științific', 'sustenabilitate', 'crește', 'internațional', 'producție', 'public', 'viza', 'conservare', 'patrimoniu', 'promova', 'solidaritate', 'inovație', 'echilibrat', 'colaborare', 'autoritate', 'cetățean', 'asigura', 'acces', 'serviciu', 'calitate', 'local', 'medie', 'viață', 'sănătos', 'eveniment', 'sportiv', 'festival', 'muzică', 'competiție', 'performanță', 'contribui', 'promovare', 'imagine', 'pozitiv', 'social', 'comunitățile', 'nivel', 'lume', 'tehnologiu', 'generație', 'irigație', 'fertilizar', 'turistic', 'beneficia', 'resursă', 'natural', 'monument', 'istoric', 'atrăga', 'vizitator', 'întreg', 'pitoresc', 'fosil', 'sat', 'infrastructură', 'dezvolta', 'rapid', 'investiție', 'rețelă', 'transport', 'energie', 'regenerabil', 'menit', 'reduce', 'dependență', 'combustibil', 'utiliza']\n"
     ]
    }
   ],
   "source": [
    "tokenized_texts = []\n",
    "for text in texts:\n",
    "    doc = nlp(text)\n",
    "    tokens = [token.lemma_.lower() for token in doc if not token.is_stop and not token.is_punct and not token.like_num]\n",
    "    tokenized_texts.append(tokens)\n",
    "model = Word2Vec(tokenized_texts, vector_size=100, window=3, min_count=1, workers=4)\n",
    "print(model.wv.index_to_key)"
   ]
  },
  {
   "cell_type": "code",
   "execution_count": 23,
   "metadata": {},
   "outputs": [
    {
     "name": "stdout",
     "output_type": "stream",
     "text": [
      "[('public', 0.3703009784221649), ('transforma', 0.2118028849363327), ('biotehnologie', 0.20201998949050903), ('tradițional', 0.1992836594581604), ('medie', 0.1885572373867035), ('social', 0.182795912027359), ('implica', 0.17313626408576965), ('artă', 0.1715230494737625), ('proiect', 0.1702841967344284), ('întreg', 0.1630016714334488)]\n"
     ]
    }
   ],
   "source": [
    "print(model.wv.most_similar(\"românia\"))"
   ]
  },
  {
   "cell_type": "code",
   "execution_count": 19,
   "metadata": {},
   "outputs": [
    {
     "name": "stdout",
     "output_type": "stream",
     "text": [
      "0.0053560403\n"
     ]
    }
   ],
   "source": [
    "print(model.wv.similarity(\"dezvoltare\", \"proiect\"))"
   ]
  },
  {
   "cell_type": "code",
   "execution_count": 24,
   "metadata": {},
   "outputs": [
    {
     "name": "stdout",
     "output_type": "stream",
     "text": [
      "Most similar to 'românia': [('public', 0.3703009784221649), ('transforma', 0.2118028849363327), ('biotehnologie', 0.20201998949050903), ('tradițional', 0.1992836594581604), ('medie', 0.1885572373867035), ('social', 0.182795912027359), ('implica', 0.17313626408576965), ('artă', 0.1715230494737625), ('proiect', 0.1702841967344284), ('întreg', 0.1630016714334488)]\n",
      "Similarity between 'cultural' and 'românia': -0.051788386\n",
      "Analogy (modern : urban :: agricultură : ?): [('îmbunătăți', 0.22844958305358887), ('implica', 0.2185332179069519), ('serviciu', 0.20823460817337036), ('rar', 0.1963133066892624), ('elev', 0.194877028465271), ('rapid', 0.19457443058490753), ('regenerabil', 0.15887652337551117), ('fertilizar', 0.14354152977466583), ('crește', 0.14177940785884857), ('temă', 0.13510160148143768)]\n",
      "Odd one out among ['românia', 'modern', 'cultural', 'agricultură']: agricultură\n"
     ]
    }
   ],
   "source": [
    "print(\"Most similar to 'românia':\", model.wv.most_similar(\"românia\"))\n",
    "print(\"Similarity between 'cultural' and 'românia':\", model.wv.similarity(\"cultural\", \"românia\"))\n",
    "print(\"Analogy (modern : urban :: agricultură : ?):\", model.wv.most_similar(positive=[\"agricultură\", \"urban\"], negative=[\"modern\"]))\n",
    "print(\"Odd one out among ['românia', 'modern', 'cultural', 'agricultură']:\", model.wv.doesnt_match([\"românia\", \"modern\", \"cultural\", \"agricultură\"]))\n"
   ]
  },
  {
   "cell_type": "code",
   "execution_count": null,
   "metadata": {},
   "outputs": [],
   "source": []
  }
 ],
 "metadata": {
  "kernelspec": {
   "display_name": "nlp-H-M5Qq5I-py3.12",
   "language": "python",
   "name": "python3"
  },
  "language_info": {
   "codemirror_mode": {
    "name": "ipython",
    "version": 3
   },
   "file_extension": ".py",
   "mimetype": "text/x-python",
   "name": "python",
   "nbconvert_exporter": "python",
   "pygments_lexer": "ipython3",
   "version": "3.12.3"
  }
 },
 "nbformat": 4,
 "nbformat_minor": 2
}
